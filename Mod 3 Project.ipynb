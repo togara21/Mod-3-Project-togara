{
 "cells": [
  {
   "cell_type": "code",
   "execution_count": 1,
   "metadata": {},
   "outputs": [],
   "source": [
    "#connect database and create cursor \n",
    "import sqlite3\n",
    "conn = sqlite3.connect('Northwind_small.sqlite')\n",
    "c = conn.cursor()"
   ]
  },
  {
   "cell_type": "code",
   "execution_count": 2,
   "metadata": {},
   "outputs": [],
   "source": [
    "import pandas as pd\n",
    "import numpy as np\n",
    "import math\n",
    "import seaborn as sns\n",
    "import matplotlib.pyplot as plt\n",
    "import statsmodels.api as sm\n",
    "from statsmodels.formula.api import ols\n",
    "import scipy as sp\n",
    "from scipy import stats"
   ]
  },
  {
   "cell_type": "markdown",
   "metadata": {},
   "source": [
    "Does discount amount have a statistically significant effect on the quantity of a product in an order? If so, at what level(s) of discount?"
   ]
  },
  {
   "cell_type": "markdown",
   "metadata": {},
   "source": [
    "Null Hypothesis: H_0 = There is no relationship between the \"Discount\" and the \"Quantity\" of a product in an order. "
   ]
  },
  {
   "cell_type": "markdown",
   "metadata": {},
   "source": [
    "Alternative Hypothesis: H_1 = There is a relationship between the discount and the quantity of a product in an order. (the more of a discount, the higher the quantity is ordered)"
   ]
  },
  {
   "cell_type": "code",
   "execution_count": 3,
   "metadata": {
    "scrolled": false
   },
   "outputs": [
    {
     "data": {
      "text/html": [
       "<div>\n",
       "<style scoped>\n",
       "    .dataframe tbody tr th:only-of-type {\n",
       "        vertical-align: middle;\n",
       "    }\n",
       "\n",
       "    .dataframe tbody tr th {\n",
       "        vertical-align: top;\n",
       "    }\n",
       "\n",
       "    .dataframe thead th {\n",
       "        text-align: right;\n",
       "    }\n",
       "</style>\n",
       "<table border=\"1\" class=\"dataframe\">\n",
       "  <thead>\n",
       "    <tr style=\"text-align: right;\">\n",
       "      <th></th>\n",
       "      <th>Quantity</th>\n",
       "      <th>Discount</th>\n",
       "    </tr>\n",
       "  </thead>\n",
       "  <tbody>\n",
       "    <tr>\n",
       "      <th>0</th>\n",
       "      <td>130</td>\n",
       "      <td>0.1</td>\n",
       "    </tr>\n",
       "    <tr>\n",
       "      <th>1</th>\n",
       "      <td>130</td>\n",
       "      <td>0.0</td>\n",
       "    </tr>\n",
       "    <tr>\n",
       "      <th>2</th>\n",
       "      <td>120</td>\n",
       "      <td>0.1</td>\n",
       "    </tr>\n",
       "    <tr>\n",
       "      <th>3</th>\n",
       "      <td>120</td>\n",
       "      <td>0.1</td>\n",
       "    </tr>\n",
       "    <tr>\n",
       "      <th>4</th>\n",
       "      <td>120</td>\n",
       "      <td>0.0</td>\n",
       "    </tr>\n",
       "  </tbody>\n",
       "</table>\n",
       "</div>"
      ],
      "text/plain": [
       "   Quantity  Discount\n",
       "0       130       0.1\n",
       "1       130       0.0\n",
       "2       120       0.1\n",
       "3       120       0.1\n",
       "4       120       0.0"
      ]
     },
     "execution_count": 3,
     "metadata": {},
     "output_type": "execute_result"
    }
   ],
   "source": [
    "#wrap the results into a Pandas DataFrame and re-assign column names\n",
    "c.execute('''SELECT Quantity, Discount FROM OrderDetail ORDER BY Quantity DESC;''')\n",
    "df = pd.DataFrame(c.fetchall())\n",
    "df.columns = [column[0] for column in c.description]\n",
    "df.head()"
   ]
  },
  {
   "cell_type": "code",
   "execution_count": 4,
   "metadata": {},
   "outputs": [
    {
     "name": "stdout",
     "output_type": "stream",
     "text": [
      "<class 'pandas.core.frame.DataFrame'>\n",
      "RangeIndex: 2155 entries, 0 to 2154\n",
      "Data columns (total 2 columns):\n",
      "Quantity    2155 non-null int64\n",
      "Discount    2155 non-null float64\n",
      "dtypes: float64(1), int64(1)\n",
      "memory usage: 33.8 KB\n"
     ]
    }
   ],
   "source": [
    "df.info()"
   ]
  },
  {
   "cell_type": "code",
   "execution_count": 5,
   "metadata": {
    "scrolled": true
   },
   "outputs": [
    {
     "data": {
      "text/html": [
       "<div>\n",
       "<style scoped>\n",
       "    .dataframe tbody tr th:only-of-type {\n",
       "        vertical-align: middle;\n",
       "    }\n",
       "\n",
       "    .dataframe tbody tr th {\n",
       "        vertical-align: top;\n",
       "    }\n",
       "\n",
       "    .dataframe thead th {\n",
       "        text-align: right;\n",
       "    }\n",
       "</style>\n",
       "<table border=\"1\" class=\"dataframe\">\n",
       "  <thead>\n",
       "    <tr style=\"text-align: right;\">\n",
       "      <th></th>\n",
       "      <th>Quantity</th>\n",
       "      <th>Discount</th>\n",
       "    </tr>\n",
       "  </thead>\n",
       "  <tbody>\n",
       "    <tr>\n",
       "      <th>count</th>\n",
       "      <td>2155.000000</td>\n",
       "      <td>2155.000000</td>\n",
       "    </tr>\n",
       "    <tr>\n",
       "      <th>mean</th>\n",
       "      <td>23.812993</td>\n",
       "      <td>0.056167</td>\n",
       "    </tr>\n",
       "    <tr>\n",
       "      <th>std</th>\n",
       "      <td>19.022047</td>\n",
       "      <td>0.083450</td>\n",
       "    </tr>\n",
       "    <tr>\n",
       "      <th>min</th>\n",
       "      <td>1.000000</td>\n",
       "      <td>0.000000</td>\n",
       "    </tr>\n",
       "    <tr>\n",
       "      <th>25%</th>\n",
       "      <td>10.000000</td>\n",
       "      <td>0.000000</td>\n",
       "    </tr>\n",
       "    <tr>\n",
       "      <th>50%</th>\n",
       "      <td>20.000000</td>\n",
       "      <td>0.000000</td>\n",
       "    </tr>\n",
       "    <tr>\n",
       "      <th>75%</th>\n",
       "      <td>30.000000</td>\n",
       "      <td>0.100000</td>\n",
       "    </tr>\n",
       "    <tr>\n",
       "      <th>max</th>\n",
       "      <td>130.000000</td>\n",
       "      <td>0.250000</td>\n",
       "    </tr>\n",
       "  </tbody>\n",
       "</table>\n",
       "</div>"
      ],
      "text/plain": [
       "          Quantity     Discount\n",
       "count  2155.000000  2155.000000\n",
       "mean     23.812993     0.056167\n",
       "std      19.022047     0.083450\n",
       "min       1.000000     0.000000\n",
       "25%      10.000000     0.000000\n",
       "50%      20.000000     0.000000\n",
       "75%      30.000000     0.100000\n",
       "max     130.000000     0.250000"
      ]
     },
     "execution_count": 5,
     "metadata": {},
     "output_type": "execute_result"
    }
   ],
   "source": [
    "df.describe()"
   ]
  },
  {
   "cell_type": "markdown",
   "metadata": {},
   "source": [
    "Hypothesis Testing:\n",
    "experimental design, effect size, T-tests, Type 1 and Type 2 errors"
   ]
  },
  {
   "cell_type": "markdown",
   "metadata": {},
   "source": [
    "p-value: the probability of observing a test statistic at least as large as the one observed, by random chance, assuming the null hypothesis is true \n",
    "\n",
    "alpha value: the marginal threshold at which you're okay with rejecting the null hypothesis (most commonly 0.05)"
   ]
  },
  {
   "cell_type": "markdown",
   "metadata": {},
   "source": [
    "A One-Tail Test is when you want to know if a parameter from the treatment group is greater than (or less than) a corresponding parameter from the control group."
   ]
  },
  {
   "cell_type": "markdown",
   "metadata": {},
   "source": [
    "Effect size using Cohen's D statistic:\n",
    "Effect Size is used to quantify the size of the difference between two groups under observation\n",
    "P value - probability sample means are the same.\n",
    "(1 - P) or Confidence Level = probability sample means are different\n",
    "Effect size = how different sample means are"
   ]
  },
  {
   "cell_type": "markdown",
   "metadata": {},
   "source": [
    "What kind of hypothesis test here?\n",
    "Two sample t-tests? - used to determine if two population means are equal "
   ]
  },
  {
   "cell_type": "code",
   "execution_count": 6,
   "metadata": {
    "scrolled": true
   },
   "outputs": [
    {
     "data": {
      "text/plain": [
       "0.00    1317\n",
       "0.05     185\n",
       "0.10     173\n",
       "0.20     161\n",
       "0.15     157\n",
       "0.25     154\n",
       "0.03       3\n",
       "0.02       2\n",
       "0.04       1\n",
       "0.01       1\n",
       "0.06       1\n",
       "Name: Discount, dtype: int64"
      ]
     },
     "execution_count": 6,
     "metadata": {},
     "output_type": "execute_result"
    }
   ],
   "source": [
    "df.Discount.value_counts()"
   ]
  },
  {
   "cell_type": "code",
   "execution_count": 7,
   "metadata": {},
   "outputs": [
    {
     "data": {
      "text/plain": [
       "20     252\n",
       "30     194\n",
       "10     181\n",
       "15     169\n",
       "40     113\n",
       "12      92\n",
       "6       87\n",
       "25      80\n",
       "50      75\n",
       "35      71\n",
       "5       67\n",
       "24      58\n",
       "60      58\n",
       "4       55\n",
       "2       52\n",
       "21      50\n",
       "8       50\n",
       "18      47\n",
       "3       46\n",
       "14      36\n",
       "16      35\n",
       "9       30\n",
       "28      29\n",
       "70      28\n",
       "7       23\n",
       "36      21\n",
       "42      19\n",
       "1       17\n",
       "80      16\n",
       "45      14\n",
       "100     10\n",
       "55       9\n",
       "120      8\n",
       "65       8\n",
       "49       7\n",
       "48       5\n",
       "32       5\n",
       "44       4\n",
       "90       4\n",
       "13       3\n",
       "77       3\n",
       "110      3\n",
       "56       3\n",
       "84       2\n",
       "11       2\n",
       "27       2\n",
       "33       2\n",
       "39       2\n",
       "130      2\n",
       "63       1\n",
       "66       1\n",
       "22       1\n",
       "52       1\n",
       "54       1\n",
       "91       1\n",
       "Name: Quantity, dtype: int64"
      ]
     },
     "execution_count": 7,
     "metadata": {},
     "output_type": "execute_result"
    }
   ],
   "source": [
    "df.Quantity.value_counts()"
   ]
  },
  {
   "cell_type": "code",
   "execution_count": 8,
   "metadata": {
    "scrolled": false
   },
   "outputs": [
    {
     "data": {
      "text/plain": [
       "1     130\n",
       "4     120\n",
       "6     120\n",
       "7     120\n",
       "10    110\n",
       "Name: Quantity, dtype: int64"
      ]
     },
     "execution_count": 8,
     "metadata": {},
     "output_type": "execute_result"
    }
   ],
   "source": [
    "no_discount = df[df.Discount == 0]['Quantity']\n",
    "no_discount.head()"
   ]
  },
  {
   "cell_type": "code",
   "execution_count": 9,
   "metadata": {},
   "outputs": [],
   "source": [
    "discount5 = df[df.Discount == 0.05]['Quantity']\n",
    "discount10 = df[df.Discount == 0.10]['Quantity']\n",
    "discount20 = df[df.Discount == 0.20]['Quantity']\n",
    "discount15 = df[df.Discount == 0.15]['Quantity']\n",
    "discount25 = df[df.Discount == 0.25]['Quantity']"
   ]
  },
  {
   "cell_type": "code",
   "execution_count": 10,
   "metadata": {},
   "outputs": [],
   "source": [
    "all_discounts = df[df.Discount != 0]['Quantity']"
   ]
  },
  {
   "cell_type": "code",
   "execution_count": 11,
   "metadata": {},
   "outputs": [
    {
     "name": "stdout",
     "output_type": "stream",
     "text": [
      "21.715261958997722\n",
      "27.10978520286396\n"
     ]
    }
   ],
   "source": [
    "#Initial mean exploration\n",
    "print(no_discount.mean())\n",
    "print(all_discounts.mean())"
   ]
  },
  {
   "cell_type": "markdown",
   "metadata": {},
   "source": [
    "Use an \"ANOVA\" test for the different discount levels maybe two sample t-test to see discount vs no discount\n",
    "\n",
    "a 2-category ANOVA F-Test is Equivalent to a 2-Tailed t-test\n",
    "\n",
    "Welch's T-test is when the assumptions of equal sample sizes and variances are not met\n",
    "\n",
    "also use Welch's T-test for distributions that do not have a normality assumption"
   ]
  },
  {
   "cell_type": "code",
   "execution_count": 12,
   "metadata": {},
   "outputs": [],
   "source": [
    "#Generating the ANOVA Table: function for ANOVA table\n",
    "def ANOVA_Quantity_Discount(df):\n",
    "    formula = 'Quantity ~ C(Discount)'\n",
    "    lm = ols(formula, df).fit()\n",
    "    table = sm.stats.anova_lm(lm, typ=2)\n",
    "    print(table)"
   ]
  },
  {
   "cell_type": "code",
   "execution_count": 13,
   "metadata": {
    "scrolled": false
   },
   "outputs": [
    {
     "name": "stdout",
     "output_type": "stream",
     "text": [
      "                    sum_sq      df         F        PR(>F)\n",
      "C(Discount)   21258.403604    10.0  6.011811  4.704231e-09\n",
      "Residual     758141.232591  2144.0       NaN           NaN\n"
     ]
    }
   ],
   "source": [
    "ANOVA_Quantity_Discount(df)"
   ]
  },
  {
   "cell_type": "markdown",
   "metadata": {},
   "source": [
    "scipy.stats.f_oneway: \n",
    "The one-way ANOVA tests the null hypothesis that two or more groups have the same population mean. \n",
    "The test is applied to samples from two or more groups, possibly with differing sizes."
   ]
  },
  {
   "cell_type": "markdown",
   "metadata": {},
   "source": [
    "Dont need to check for data following a normal distribution because number of observations (n) is greater than 50. By the Central Limit Theorem (CTL), when independent random variables are added, their properly normalized sum tends toward a normal distribution even if the original variables themselves are not normally distributed"
   ]
  },
  {
   "cell_type": "code",
   "execution_count": 14,
   "metadata": {},
   "outputs": [
    {
     "data": {
      "text/plain": [
       "F_onewayResult(statistic=9.798709497651325, pvalue=2.840680781326738e-09)"
      ]
     },
     "execution_count": 14,
     "metadata": {},
     "output_type": "execute_result"
    }
   ],
   "source": [
    "sp.stats.f_oneway(no_discount, discount5, discount10, discount15, discount20, discount25)"
   ]
  },
  {
   "cell_type": "markdown",
   "metadata": {},
   "source": [
    "Reject the null hypothesis, given our p value is < 0.05.\n",
    "At least two group means are statistically different from each other. There is a statistically significant chance that there is a relationship between the \"Discount\" and \"Quantity\" of a product in an order\n",
    "You cannot tell which specific groups were statistically signifcantly different from each other, only that at least two groups were.\n",
    "Perform a t-test comparing these different groups and graph it out using a violin plot of the different Discount levels and Quantities of orders\n",
    "\n",
    "Do I need an \"Effect size\"(how different sample means are) or \"Power\"?"
   ]
  },
  {
   "cell_type": "code",
   "execution_count": 15,
   "metadata": {},
   "outputs": [],
   "source": [
    "#perform t-test (welch's t-test )\n",
    "#use scipy.stats.ttest_ind\n",
    "#build a function for this and include effect size/cohen's D stat\n",
    "#stats.ttest_ind is a two-sided test, equal_var=False makes it welch (different variances and sample sizes)\n",
    "def t_test_discount(discountamount):\n",
    "    t, p = sp.stats.ttest_ind(no_discount, discountamount, equal_var=False)\n",
    "    print('t:',t)\n",
    "    print('p:',p/2)"
   ]
  },
  {
   "cell_type": "code",
   "execution_count": 16,
   "metadata": {},
   "outputs": [
    {
     "name": "stdout",
     "output_type": "stream",
     "text": [
      "t: -3.7008442607608716\n",
      "p: 0.00013616747216423758\n"
     ]
    }
   ],
   "source": [
    "t_test_discount(discount5)"
   ]
  },
  {
   "cell_type": "code",
   "execution_count": 17,
   "metadata": {},
   "outputs": [
    {
     "name": "stdout",
     "output_type": "stream",
     "text": [
      "t: -2.0944342819334767\n",
      "p: 0.01872798305317041\n"
     ]
    }
   ],
   "source": [
    "t_test_discount(discount10)"
   ]
  },
  {
   "cell_type": "code",
   "execution_count": 18,
   "metadata": {},
   "outputs": [
    {
     "name": "stdout",
     "output_type": "stream",
     "text": [
      "t: -3.835662042660593\n",
      "p: 8.610364721813697e-05\n"
     ]
    }
   ],
   "source": [
    "t_test_discount(discount15)"
   ]
  },
  {
   "cell_type": "code",
   "execution_count": 19,
   "metadata": {},
   "outputs": [
    {
     "name": "stdout",
     "output_type": "stream",
     "text": [
      "t: -3.4021239132172787\n",
      "p: 0.0004055016627021704\n"
     ]
    }
   ],
   "source": [
    "t_test_discount(discount20)"
   ]
  },
  {
   "cell_type": "code",
   "execution_count": 20,
   "metadata": {
    "scrolled": false
   },
   "outputs": [
    {
     "name": "stdout",
     "output_type": "stream",
     "text": [
      "t: -3.8572676240072523\n",
      "p: 7.961525461062818e-05\n"
     ]
    }
   ],
   "source": [
    "t_test_discount(discount25)"
   ]
  },
  {
   "cell_type": "markdown",
   "metadata": {},
   "source": [
    "All discount levels appear to be statistically significant and merit rejecting the null-hypothesis based on the p-values.\n",
    "Most signficiant discount levels are: 25%, 15%, 5%, 20%, 10% in that order"
   ]
  },
  {
   "cell_type": "markdown",
   "metadata": {},
   "source": [
    "Check effect size using Cohen D:"
   ]
  },
  {
   "cell_type": "code",
   "execution_count": 21,
   "metadata": {},
   "outputs": [],
   "source": [
    "def cohensd(group1, group2):\n",
    "    return (group1.mean() - group2.mean())/((math.sqrt(group1.std()**2+group2.std()**2))/2)"
   ]
  },
  {
   "cell_type": "code",
   "execution_count": 22,
   "metadata": {
    "scrolled": true
   },
   "outputs": [
    {
     "data": {
      "text/plain": [
       "-0.4454951901792902"
      ]
     },
     "execution_count": 22,
     "metadata": {},
     "output_type": "execute_result"
    }
   ],
   "source": [
    "cohensd_discount5 = cohensd(no_discount, discount5)\n",
    "cohensd_discount5"
   ]
  },
  {
   "cell_type": "code",
   "execution_count": 23,
   "metadata": {},
   "outputs": [
    {
     "data": {
      "text/plain": [
       "-0.25627339218872913"
      ]
     },
     "execution_count": 23,
     "metadata": {},
     "output_type": "execute_result"
    }
   ],
   "source": [
    "cohensd_discount10 = cohensd(no_discount, discount10)\n",
    "cohensd_discount10"
   ]
  },
  {
   "cell_type": "code",
   "execution_count": 24,
   "metadata": {},
   "outputs": [
    {
     "data": {
      "text/plain": [
       "-0.48874636877827726"
      ]
     },
     "execution_count": 24,
     "metadata": {},
     "output_type": "execute_result"
    }
   ],
   "source": [
    "cohensd_discount15 = cohensd(no_discount, discount15)\n",
    "cohensd_discount15"
   ]
  },
  {
   "cell_type": "code",
   "execution_count": 25,
   "metadata": {},
   "outputs": [
    {
     "data": {
      "text/plain": [
       "-0.4129793473738977"
      ]
     },
     "execution_count": 25,
     "metadata": {},
     "output_type": "execute_result"
    }
   ],
   "source": [
    "cohensd_discount20 = cohensd(no_discount, discount20)\n",
    "cohensd_discount20"
   ]
  },
  {
   "cell_type": "code",
   "execution_count": 26,
   "metadata": {
    "scrolled": true
   },
   "outputs": [
    {
     "data": {
      "text/plain": [
       "-0.48929277482188704"
      ]
     },
     "execution_count": 26,
     "metadata": {},
     "output_type": "execute_result"
    }
   ],
   "source": [
    "cohensd_discount25 = cohensd(no_discount, discount25)\n",
    "cohensd_discount25"
   ]
  },
  {
   "cell_type": "markdown",
   "metadata": {},
   "source": [
    "All the Cohen D statistics are larger than 0.2 and close to 0.5 which is defined to be a \"medium\" effect size"
   ]
  },
  {
   "cell_type": "code",
   "execution_count": 27,
   "metadata": {
    "scrolled": false
   },
   "outputs": [
    {
     "data": {
      "image/png": "[encoded data removed]",
      "text/plain": [
       "<Figure size 1008x576 with 1 Axes>"
      ]
     },
     "metadata": {
      "needs_background": "light"
     },
     "output_type": "display_data"
    }
   ],
   "source": [
    "#create a violin plot in seaborn to compare the different discount levels and visualize effect size on mean Quantity of order\n",
    "plt.subplots(figsize=(14,8))\n",
    "ax = sns.violinplot(x='Discount', y='Quantity', data=df, scale='width')\n",
    "#ax.set(ylim=(-10,50))"
   ]
  },
  {
   "cell_type": "code",
   "execution_count": 28,
   "metadata": {},
   "outputs": [],
   "source": [
    "#conduct a Power analysis \n",
    "#Power of a statistical test is defined as the probability of rejeecting the null hypothesis, given that it is indeed false.\n",
    "#ranges from 0 to 1\n",
    "#related to beta, the probability of Type 2 errors (alpha is probability of type 1 errors, reject null-hypothesis when actually true)\n",
    "#power = 1 - beta\n",
    "\n",
    "from statsmodels.stats.power import TTestIndPower, TTestPower\n",
    "\n",
    "power_analysis = TTestIndPower()"
   ]
  },
  {
   "cell_type": "code",
   "execution_count": 29,
   "metadata": {},
   "outputs": [],
   "source": [
    "#function to calculate power with 2 samples and cohen d for effect size\n",
    "#alternative='smaller' is to indicate a one-sided test - to the left or the right of the sample\n",
    "def powertest(sample1, sample2, cohensd):\n",
    "    power = power_analysis.solve_power(effect_size=cohensd, nobs1=len(sample1), alpha=0.05, ratio=len(sample2)/len(sample1), alternative='smaller')\n",
    "    return power"
   ]
  },
  {
   "cell_type": "code",
   "execution_count": 30,
   "metadata": {},
   "outputs": [
    {
     "data": {
      "text/plain": [
       "0.9999999930235985"
      ]
     },
     "execution_count": 30,
     "metadata": {},
     "output_type": "execute_result"
    }
   ],
   "source": [
    "powertest(no_discount, discount5, cohensd_discount5)"
   ]
  },
  {
   "cell_type": "code",
   "execution_count": 31,
   "metadata": {},
   "outputs": [
    {
     "data": {
      "text/plain": [
       "0.9360874911711115"
      ]
     },
     "execution_count": 31,
     "metadata": {},
     "output_type": "execute_result"
    }
   ],
   "source": [
    "powertest(no_discount, discount10, cohensd_discount10)"
   ]
  },
  {
   "cell_type": "code",
   "execution_count": 32,
   "metadata": {},
   "outputs": [
    {
     "data": {
      "text/plain": [
       "0.9999999964523446"
      ]
     },
     "execution_count": 32,
     "metadata": {},
     "output_type": "execute_result"
    }
   ],
   "source": [
    "powertest(no_discount, discount15, cohensd_discount15)"
   ]
  },
  {
   "cell_type": "code",
   "execution_count": 33,
   "metadata": {},
   "outputs": [
    {
     "data": {
      "text/plain": [
       "0.9995154605974645"
      ]
     },
     "execution_count": 33,
     "metadata": {},
     "output_type": "execute_result"
    }
   ],
   "source": [
    "powertest(no_discount, discount20, cohensd_discount20)"
   ]
  },
  {
   "cell_type": "code",
   "execution_count": 34,
   "metadata": {},
   "outputs": [
    {
     "data": {
      "text/plain": [
       "0.9999999954131694"
      ]
     },
     "execution_count": 34,
     "metadata": {},
     "output_type": "execute_result"
    }
   ],
   "source": [
    "powertest(no_discount, discount25, cohensd_discount25)"
   ]
  },
  {
   "cell_type": "markdown",
   "metadata": {},
   "source": [
    "All of the powers are very high, meaning beta (probability of Type 2 Errors) is very low.\n",
    "This is ideal because it means the probability of a Type 2 Error is very low. \n",
    "Type 2 Errors are a non-rejection of a false null-hypothesis, aka a false negative"
   ]
  },
  {
   "cell_type": "markdown",
   "metadata": {},
   "source": [
    "Business recommendation:\n",
    "The discount levels have a statistically significant impact on Quantities of orders, however, the effect sizes are in the small to medium size range.\n",
    "\n",
    "The effect sizes being small to medium means the actual mean increase in Quantities of orders isnt that large. More work should be done to analyze if the % discount is worth the \"small to medium increase\" in Quantities of orders. \n",
    "\n",
    "Without doing any more work on this I would be inclined to recommend a 5% discount on most items because the effect size is almost as large as a 25% discount. This means while you will increase the Quantities of orders \"significantly\" you also won't hurt your profitability as much with a 5% discount."
   ]
  },
  {
   "cell_type": "markdown",
   "metadata": {},
   "source": [
    "Hypothesis Test Number Two:"
   ]
  },
  {
   "cell_type": "markdown",
   "metadata": {},
   "source": [
    "Null Hypothesis: H_0 = ShipVia has no effect/relationship on the Freight"
   ]
  },
  {
   "cell_type": "markdown",
   "metadata": {},
   "source": [
    "Alternative Hypothesis: H_1 = ShipVia does have an effect/relationship on the Freight"
   ]
  },
  {
   "cell_type": "code",
   "execution_count": 35,
   "metadata": {
    "scrolled": false
   },
   "outputs": [
    {
     "data": {
      "text/html": [
       "<div>\n",
       "<style scoped>\n",
       "    .dataframe tbody tr th:only-of-type {\n",
       "        vertical-align: middle;\n",
       "    }\n",
       "\n",
       "    .dataframe tbody tr th {\n",
       "        vertical-align: top;\n",
       "    }\n",
       "\n",
       "    .dataframe thead th {\n",
       "        text-align: right;\n",
       "    }\n",
       "</style>\n",
       "<table border=\"1\" class=\"dataframe\">\n",
       "  <thead>\n",
       "    <tr style=\"text-align: right;\">\n",
       "      <th></th>\n",
       "      <th>Id</th>\n",
       "      <th>CustomerId</th>\n",
       "      <th>EmployeeId</th>\n",
       "      <th>OrderDate</th>\n",
       "      <th>RequiredDate</th>\n",
       "      <th>ShippedDate</th>\n",
       "      <th>ShipVia</th>\n",
       "      <th>Freight</th>\n",
       "      <th>ShipName</th>\n",
       "      <th>ShipAddress</th>\n",
       "      <th>ShipCity</th>\n",
       "      <th>ShipRegion</th>\n",
       "      <th>ShipPostalCode</th>\n",
       "      <th>ShipCountry</th>\n",
       "    </tr>\n",
       "  </thead>\n",
       "  <tbody>\n",
       "    <tr>\n",
       "      <th>0</th>\n",
       "      <td>10248</td>\n",
       "      <td>VINET</td>\n",
       "      <td>5</td>\n",
       "      <td>2012-07-04</td>\n",
       "      <td>2012-08-01</td>\n",
       "      <td>2012-07-16</td>\n",
       "      <td>3</td>\n",
       "      <td>32.38</td>\n",
       "      <td>Vins et alcools Chevalier</td>\n",
       "      <td>59 rue de l'Abbaye</td>\n",
       "      <td>Reims</td>\n",
       "      <td>Western Europe</td>\n",
       "      <td>51100</td>\n",
       "      <td>France</td>\n",
       "    </tr>\n",
       "    <tr>\n",
       "      <th>1</th>\n",
       "      <td>10249</td>\n",
       "      <td>TOMSP</td>\n",
       "      <td>6</td>\n",
       "      <td>2012-07-05</td>\n",
       "      <td>2012-08-16</td>\n",
       "      <td>2012-07-10</td>\n",
       "      <td>1</td>\n",
       "      <td>11.61</td>\n",
       "      <td>Toms Spezialitäten</td>\n",
       "      <td>Luisenstr. 48</td>\n",
       "      <td>Münster</td>\n",
       "      <td>Western Europe</td>\n",
       "      <td>44087</td>\n",
       "      <td>Germany</td>\n",
       "    </tr>\n",
       "    <tr>\n",
       "      <th>2</th>\n",
       "      <td>10250</td>\n",
       "      <td>HANAR</td>\n",
       "      <td>4</td>\n",
       "      <td>2012-07-08</td>\n",
       "      <td>2012-08-05</td>\n",
       "      <td>2012-07-12</td>\n",
       "      <td>2</td>\n",
       "      <td>65.83</td>\n",
       "      <td>Hanari Carnes</td>\n",
       "      <td>Rua do Paço, 67</td>\n",
       "      <td>Rio de Janeiro</td>\n",
       "      <td>South America</td>\n",
       "      <td>05454-876</td>\n",
       "      <td>Brazil</td>\n",
       "    </tr>\n",
       "    <tr>\n",
       "      <th>3</th>\n",
       "      <td>10251</td>\n",
       "      <td>VICTE</td>\n",
       "      <td>3</td>\n",
       "      <td>2012-07-08</td>\n",
       "      <td>2012-08-05</td>\n",
       "      <td>2012-07-15</td>\n",
       "      <td>1</td>\n",
       "      <td>41.34</td>\n",
       "      <td>Victuailles en stock</td>\n",
       "      <td>2, rue du Commerce</td>\n",
       "      <td>Lyon</td>\n",
       "      <td>Western Europe</td>\n",
       "      <td>69004</td>\n",
       "      <td>France</td>\n",
       "    </tr>\n",
       "    <tr>\n",
       "      <th>4</th>\n",
       "      <td>10252</td>\n",
       "      <td>SUPRD</td>\n",
       "      <td>4</td>\n",
       "      <td>2012-07-09</td>\n",
       "      <td>2012-08-06</td>\n",
       "      <td>2012-07-11</td>\n",
       "      <td>2</td>\n",
       "      <td>51.30</td>\n",
       "      <td>Suprêmes délices</td>\n",
       "      <td>Boulevard Tirou, 255</td>\n",
       "      <td>Charleroi</td>\n",
       "      <td>Western Europe</td>\n",
       "      <td>B-6000</td>\n",
       "      <td>Belgium</td>\n",
       "    </tr>\n",
       "  </tbody>\n",
       "</table>\n",
       "</div>"
      ],
      "text/plain": [
       "      Id CustomerId  EmployeeId   OrderDate RequiredDate ShippedDate  ShipVia  \\\n",
       "0  10248      VINET           5  2012-07-04   2012-08-01  2012-07-16        3   \n",
       "1  10249      TOMSP           6  2012-07-05   2012-08-16  2012-07-10        1   \n",
       "2  10250      HANAR           4  2012-07-08   2012-08-05  2012-07-12        2   \n",
       "3  10251      VICTE           3  2012-07-08   2012-08-05  2012-07-15        1   \n",
       "4  10252      SUPRD           4  2012-07-09   2012-08-06  2012-07-11        2   \n",
       "\n",
       "   Freight                   ShipName           ShipAddress        ShipCity  \\\n",
       "0    32.38  Vins et alcools Chevalier    59 rue de l'Abbaye           Reims   \n",
       "1    11.61         Toms Spezialitäten         Luisenstr. 48         Münster   \n",
       "2    65.83              Hanari Carnes       Rua do Paço, 67  Rio de Janeiro   \n",
       "3    41.34       Victuailles en stock    2, rue du Commerce            Lyon   \n",
       "4    51.30           Suprêmes délices  Boulevard Tirou, 255       Charleroi   \n",
       "\n",
       "       ShipRegion ShipPostalCode ShipCountry  \n",
       "0  Western Europe          51100      France  \n",
       "1  Western Europe          44087     Germany  \n",
       "2   South America      05454-876      Brazil  \n",
       "3  Western Europe          69004      France  \n",
       "4  Western Europe         B-6000     Belgium  "
      ]
     },
     "execution_count": 35,
     "metadata": {},
     "output_type": "execute_result"
    }
   ],
   "source": [
    "#wrap the results into a Pandas DataFrame and re-assign column names\n",
    "c.execute('''SELECT * FROM [Order];''')\n",
    "df2 = pd.DataFrame(c.fetchall())\n",
    "df2.columns = [column[0] for column in c.description]\n",
    "df2.head()"
   ]
  },
  {
   "cell_type": "code",
   "execution_count": 36,
   "metadata": {},
   "outputs": [
    {
     "name": "stdout",
     "output_type": "stream",
     "text": [
      "<class 'pandas.core.frame.DataFrame'>\n",
      "RangeIndex: 830 entries, 0 to 829\n",
      "Data columns (total 14 columns):\n",
      "Id                830 non-null int64\n",
      "CustomerId        830 non-null object\n",
      "EmployeeId        830 non-null int64\n",
      "OrderDate         830 non-null object\n",
      "RequiredDate      830 non-null object\n",
      "ShippedDate       809 non-null object\n",
      "ShipVia           830 non-null int64\n",
      "Freight           830 non-null float64\n",
      "ShipName          830 non-null object\n",
      "ShipAddress       830 non-null object\n",
      "ShipCity          830 non-null object\n",
      "ShipRegion        830 non-null object\n",
      "ShipPostalCode    811 non-null object\n",
      "ShipCountry       830 non-null object\n",
      "dtypes: float64(1), int64(3), object(10)\n",
      "memory usage: 90.9+ KB\n"
     ]
    }
   ],
   "source": [
    "df2.info()"
   ]
  },
  {
   "cell_type": "code",
   "execution_count": 37,
   "metadata": {},
   "outputs": [
    {
     "data": {
      "text/plain": [
       "2    326\n",
       "3    255\n",
       "1    249\n",
       "Name: ShipVia, dtype: int64"
      ]
     },
     "execution_count": 37,
     "metadata": {},
     "output_type": "execute_result"
    }
   ],
   "source": [
    "df2.ShipVia.value_counts()"
   ]
  },
  {
   "cell_type": "code",
   "execution_count": 38,
   "metadata": {},
   "outputs": [],
   "source": [
    "#convert to datetime objects\n",
    "df2['RequiredDate'] = pd.to_datetime(df2['RequiredDate'])"
   ]
  },
  {
   "cell_type": "code",
   "execution_count": 39,
   "metadata": {},
   "outputs": [],
   "source": [
    "#convert to datetime objects\n",
    "df2['ShippedDate'] = pd.to_datetime(df2['ShippedDate'])"
   ]
  },
  {
   "cell_type": "code",
   "execution_count": 40,
   "metadata": {},
   "outputs": [],
   "source": [
    "#convert to datetime objects\n",
    "df2['OrderDate'] = pd.to_datetime(df2['OrderDate'])"
   ]
  },
  {
   "cell_type": "code",
   "execution_count": 41,
   "metadata": {},
   "outputs": [],
   "source": [
    "#add a new column to this dataframe to show the days to ship\n",
    "df2['DaysToShip'] = df2['ShippedDate'] - df2['OrderDate']"
   ]
  },
  {
   "cell_type": "code",
   "execution_count": 42,
   "metadata": {},
   "outputs": [],
   "source": [
    "#add a new column to this dataframe to show the days past the required date\n",
    "df2['DaysLate'] = df2['ShippedDate'] - df2['RequiredDate']"
   ]
  },
  {
   "cell_type": "code",
   "execution_count": 43,
   "metadata": {},
   "outputs": [
    {
     "data": {
      "text/html": [
       "<div>\n",
       "<style scoped>\n",
       "    .dataframe tbody tr th:only-of-type {\n",
       "        vertical-align: middle;\n",
       "    }\n",
       "\n",
       "    .dataframe tbody tr th {\n",
       "        vertical-align: top;\n",
       "    }\n",
       "\n",
       "    .dataframe thead th {\n",
       "        text-align: right;\n",
       "    }\n",
       "</style>\n",
       "<table border=\"1\" class=\"dataframe\">\n",
       "  <thead>\n",
       "    <tr style=\"text-align: right;\">\n",
       "      <th></th>\n",
       "      <th>Id</th>\n",
       "      <th>CustomerId</th>\n",
       "      <th>EmployeeId</th>\n",
       "      <th>OrderDate</th>\n",
       "      <th>RequiredDate</th>\n",
       "      <th>ShippedDate</th>\n",
       "      <th>ShipVia</th>\n",
       "      <th>Freight</th>\n",
       "      <th>ShipName</th>\n",
       "      <th>ShipAddress</th>\n",
       "      <th>ShipCity</th>\n",
       "      <th>ShipRegion</th>\n",
       "      <th>ShipPostalCode</th>\n",
       "      <th>ShipCountry</th>\n",
       "      <th>DaysToShip</th>\n",
       "      <th>DaysLate</th>\n",
       "    </tr>\n",
       "  </thead>\n",
       "  <tbody>\n",
       "    <tr>\n",
       "      <th>0</th>\n",
       "      <td>10248</td>\n",
       "      <td>VINET</td>\n",
       "      <td>5</td>\n",
       "      <td>2012-07-04</td>\n",
       "      <td>2012-08-01</td>\n",
       "      <td>2012-07-16</td>\n",
       "      <td>3</td>\n",
       "      <td>32.38</td>\n",
       "      <td>Vins et alcools Chevalier</td>\n",
       "      <td>59 rue de l'Abbaye</td>\n",
       "      <td>Reims</td>\n",
       "      <td>Western Europe</td>\n",
       "      <td>51100</td>\n",
       "      <td>France</td>\n",
       "      <td>12 days</td>\n",
       "      <td>-16 days</td>\n",
       "    </tr>\n",
       "    <tr>\n",
       "      <th>1</th>\n",
       "      <td>10249</td>\n",
       "      <td>TOMSP</td>\n",
       "      <td>6</td>\n",
       "      <td>2012-07-05</td>\n",
       "      <td>2012-08-16</td>\n",
       "      <td>2012-07-10</td>\n",
       "      <td>1</td>\n",
       "      <td>11.61</td>\n",
       "      <td>Toms Spezialitäten</td>\n",
       "      <td>Luisenstr. 48</td>\n",
       "      <td>Münster</td>\n",
       "      <td>Western Europe</td>\n",
       "      <td>44087</td>\n",
       "      <td>Germany</td>\n",
       "      <td>5 days</td>\n",
       "      <td>-37 days</td>\n",
       "    </tr>\n",
       "    <tr>\n",
       "      <th>2</th>\n",
       "      <td>10250</td>\n",
       "      <td>HANAR</td>\n",
       "      <td>4</td>\n",
       "      <td>2012-07-08</td>\n",
       "      <td>2012-08-05</td>\n",
       "      <td>2012-07-12</td>\n",
       "      <td>2</td>\n",
       "      <td>65.83</td>\n",
       "      <td>Hanari Carnes</td>\n",
       "      <td>Rua do Paço, 67</td>\n",
       "      <td>Rio de Janeiro</td>\n",
       "      <td>South America</td>\n",
       "      <td>05454-876</td>\n",
       "      <td>Brazil</td>\n",
       "      <td>4 days</td>\n",
       "      <td>-24 days</td>\n",
       "    </tr>\n",
       "    <tr>\n",
       "      <th>3</th>\n",
       "      <td>10251</td>\n",
       "      <td>VICTE</td>\n",
       "      <td>3</td>\n",
       "      <td>2012-07-08</td>\n",
       "      <td>2012-08-05</td>\n",
       "      <td>2012-07-15</td>\n",
       "      <td>1</td>\n",
       "      <td>41.34</td>\n",
       "      <td>Victuailles en stock</td>\n",
       "      <td>2, rue du Commerce</td>\n",
       "      <td>Lyon</td>\n",
       "      <td>Western Europe</td>\n",
       "      <td>69004</td>\n",
       "      <td>France</td>\n",
       "      <td>7 days</td>\n",
       "      <td>-21 days</td>\n",
       "    </tr>\n",
       "    <tr>\n",
       "      <th>4</th>\n",
       "      <td>10252</td>\n",
       "      <td>SUPRD</td>\n",
       "      <td>4</td>\n",
       "      <td>2012-07-09</td>\n",
       "      <td>2012-08-06</td>\n",
       "      <td>2012-07-11</td>\n",
       "      <td>2</td>\n",
       "      <td>51.30</td>\n",
       "      <td>Suprêmes délices</td>\n",
       "      <td>Boulevard Tirou, 255</td>\n",
       "      <td>Charleroi</td>\n",
       "      <td>Western Europe</td>\n",
       "      <td>B-6000</td>\n",
       "      <td>Belgium</td>\n",
       "      <td>2 days</td>\n",
       "      <td>-26 days</td>\n",
       "    </tr>\n",
       "  </tbody>\n",
       "</table>\n",
       "</div>"
      ],
      "text/plain": [
       "      Id CustomerId  EmployeeId  OrderDate RequiredDate ShippedDate  ShipVia  \\\n",
       "0  10248      VINET           5 2012-07-04   2012-08-01  2012-07-16        3   \n",
       "1  10249      TOMSP           6 2012-07-05   2012-08-16  2012-07-10        1   \n",
       "2  10250      HANAR           4 2012-07-08   2012-08-05  2012-07-12        2   \n",
       "3  10251      VICTE           3 2012-07-08   2012-08-05  2012-07-15        1   \n",
       "4  10252      SUPRD           4 2012-07-09   2012-08-06  2012-07-11        2   \n",
       "\n",
       "   Freight                   ShipName           ShipAddress        ShipCity  \\\n",
       "0    32.38  Vins et alcools Chevalier    59 rue de l'Abbaye           Reims   \n",
       "1    11.61         Toms Spezialitäten         Luisenstr. 48         Münster   \n",
       "2    65.83              Hanari Carnes       Rua do Paço, 67  Rio de Janeiro   \n",
       "3    41.34       Victuailles en stock    2, rue du Commerce            Lyon   \n",
       "4    51.30           Suprêmes délices  Boulevard Tirou, 255       Charleroi   \n",
       "\n",
       "       ShipRegion ShipPostalCode ShipCountry DaysToShip DaysLate  \n",
       "0  Western Europe          51100      France    12 days -16 days  \n",
       "1  Western Europe          44087     Germany     5 days -37 days  \n",
       "2   South America      05454-876      Brazil     4 days -24 days  \n",
       "3  Western Europe          69004      France     7 days -21 days  \n",
       "4  Western Europe         B-6000     Belgium     2 days -26 days  "
      ]
     },
     "execution_count": 43,
     "metadata": {},
     "output_type": "execute_result"
    }
   ],
   "source": [
    "df2.head()"
   ]
  },
  {
   "cell_type": "code",
   "execution_count": 44,
   "metadata": {
    "scrolled": false
   },
   "outputs": [
    {
     "data": {
      "text/plain": [
       "Timedelta('8 days 11:48:25.809641')"
      ]
     },
     "execution_count": 44,
     "metadata": {},
     "output_type": "execute_result"
    }
   ],
   "source": [
    "df2.DaysToShip.mean()"
   ]
  },
  {
   "cell_type": "code",
   "execution_count": 45,
   "metadata": {},
   "outputs": [
    {
     "data": {
      "text/plain": [
       "2    326\n",
       "3    255\n",
       "1    249\n",
       "Name: ShipVia, dtype: int64"
      ]
     },
     "execution_count": 45,
     "metadata": {},
     "output_type": "execute_result"
    }
   ],
   "source": [
    "df2.ShipVia.value_counts()"
   ]
  },
  {
   "cell_type": "code",
   "execution_count": 192,
   "metadata": {},
   "outputs": [],
   "source": [
    "shipvia1 = df2[df2['ShipVia'] == 1]['Freight']\n",
    "shipvia2 = df2[df2['ShipVia'] == 2]['Freight']\n",
    "shipvia3 = df2[df2['ShipVia'] == 3]['Freight']"
   ]
  },
  {
   "cell_type": "code",
   "execution_count": 193,
   "metadata": {},
   "outputs": [
    {
     "name": "stdout",
     "output_type": "stream",
     "text": [
      "65.00132530120482\n",
      "86.6406441717791\n",
      "80.44121568627443\n"
     ]
    }
   ],
   "source": [
    "#Explore averages\n",
    "print(shipvia1.mean())\n",
    "print(shipvia2.mean())\n",
    "print(shipvia3.mean())"
   ]
  },
  {
   "cell_type": "code",
   "execution_count": 194,
   "metadata": {},
   "outputs": [
    {
     "data": {
      "text/plain": [
       "F_onewayResult(statistic=2.49781040377206, pvalue=0.08288539205995446)"
      ]
     },
     "execution_count": 194,
     "metadata": {},
     "output_type": "execute_result"
    }
   ],
   "source": [
    "#conduct an ANOVA f-test, two-tail test\n",
    "sp.stats.f_oneway(shipvia1, shipvia2, shipvia3)"
   ]
  },
  {
   "cell_type": "markdown",
   "metadata": {},
   "source": [
    "Fail to reject the null hypothesis given the p-value is > 0.05 (alpha). There isn't a statistically significant effect of ShipVia on the number of days to ship. \n",
    "\n",
    "Any need to proceed further with t-tests, effect size, power analysis? - The p-value is almost smaller than 0.05. \n",
    "\n",
    "Would recommend to the company to continue using all 3 ShipVia's because the DaysToShip doesn't seem to be very different across the 3 different Shippers."
   ]
  },
  {
   "cell_type": "code",
   "execution_count": 195,
   "metadata": {},
   "outputs": [],
   "source": [
    "#explore a t-test for fun\n",
    "def t_test_freight(sample1, sample2):\n",
    "    t, p = sp.stats.ttest_ind(sample1, sample2, equal_var=False)\n",
    "    print('t:',t)\n",
    "    print('p:',p/2)"
   ]
  },
  {
   "cell_type": "code",
   "execution_count": 196,
   "metadata": {},
   "outputs": [
    {
     "name": "stdout",
     "output_type": "stream",
     "text": [
      "t: -2.3979967389897348\n",
      "p: 0.008417108919771222\n"
     ]
    }
   ],
   "source": [
    "t_test_freight(shipvia1, shipvia2)"
   ]
  },
  {
   "cell_type": "code",
   "execution_count": 197,
   "metadata": {},
   "outputs": [
    {
     "name": "stdout",
     "output_type": "stream",
     "text": [
      "t: -1.7404246367101424\n",
      "p: 0.04124961049463819\n"
     ]
    }
   ],
   "source": [
    "t_test_freight(shipvia1, shipvia3)"
   ]
  },
  {
   "cell_type": "code",
   "execution_count": 198,
   "metadata": {},
   "outputs": [
    {
     "name": "stdout",
     "output_type": "stream",
     "text": [
      "t: 0.5794226261355386\n",
      "p: 0.281265818929504\n"
     ]
    }
   ],
   "source": [
    "t_test_freight(shipvia2, shipvia3)"
   ]
  },
  {
   "cell_type": "markdown",
   "metadata": {},
   "source": [
    "Reject the null hypothesis comparing shipvia1 vs shipvia2 and shipvia1 vs shipvia3.\n",
    "This means ShipVia does have a statistically significant effect on freight if you are comparing shipvia1 to either shipvia2 or shipvia3"
   ]
  },
  {
   "cell_type": "code",
   "execution_count": 199,
   "metadata": {},
   "outputs": [
    {
     "data": {
      "text/plain": [
       "-0.2748819372338375"
      ]
     },
     "execution_count": 199,
     "metadata": {},
     "output_type": "execute_result"
    }
   ],
   "source": [
    "#explore effect size:\n",
    "cohensd(shipvia1, shipvia2)"
   ]
  },
  {
   "cell_type": "code",
   "execution_count": 200,
   "metadata": {},
   "outputs": [
    {
     "data": {
      "text/plain": [
       "-0.21872692022553855"
      ]
     },
     "execution_count": 200,
     "metadata": {},
     "output_type": "execute_result"
    }
   ],
   "source": [
    "cohensd(shipvia1, shipvia3)"
   ]
  },
  {
   "cell_type": "markdown",
   "metadata": {},
   "source": [
    "Relatively small effect sizes but still something to note. "
   ]
  },
  {
   "cell_type": "code",
   "execution_count": 201,
   "metadata": {},
   "outputs": [
    {
     "data": {
      "text/plain": [
       "0.9470955448234311"
      ]
     },
     "execution_count": 201,
     "metadata": {},
     "output_type": "execute_result"
    }
   ],
   "source": [
    "#Explore Power:\n",
    "powertest(shipvia1, shipvia2, cohensd(shipvia1, shipvia2))"
   ]
  },
  {
   "cell_type": "code",
   "execution_count": 202,
   "metadata": {},
   "outputs": [
    {
     "data": {
      "text/plain": [
       "0.7901280819848711"
      ]
     },
     "execution_count": 202,
     "metadata": {},
     "output_type": "execute_result"
    }
   ],
   "source": [
    "powertest(shipvia1, shipvia3, cohensd(shipvia1, shipvia3))"
   ]
  },
  {
   "cell_type": "markdown",
   "metadata": {},
   "source": [
    "Low enough betas where Type 2 errors would be minimized."
   ]
  },
  {
   "cell_type": "code",
   "execution_count": 204,
   "metadata": {},
   "outputs": [
    {
     "data": {
      "image/png": "[encoded data removed]",
      "text/plain": [
       "<Figure size 1008x576 with 1 Axes>"
      ]
     },
     "metadata": {
      "needs_background": "light"
     },
     "output_type": "display_data"
    }
   ],
   "source": [
    "#Visualize this effect:\n",
    "plt.subplots(figsize=(14,8))\n",
    "ax = sns.violinplot(x='ShipVia', y='Freight', data=df2)"
   ]
  },
  {
   "cell_type": "markdown",
   "metadata": {},
   "source": [
    "The effect isn't drastic, but I would recommend that the company favor ShipVia1 over the other 2 shippers.\n",
    "I would also recommend to look into why ShipVia1 has a slightly lower freight cost. Perhaps it has more to do with WHERE they ship to, etc. "
   ]
  },
  {
   "cell_type": "code",
   "execution_count": 228,
   "metadata": {},
   "outputs": [
    {
     "data": {
      "text/plain": [
       "Western Europe     76\n",
       "North America      56\n",
       "South America      34\n",
       "British Isles      28\n",
       "Southern Europe    18\n",
       "Northern Europe    15\n",
       "Central America    14\n",
       "Scandinavia        10\n",
       "Eastern Europe      4\n",
       "Name: ShipRegion, dtype: int64"
      ]
     },
     "execution_count": 228,
     "metadata": {},
     "output_type": "execute_result"
    }
   ],
   "source": [
    "df2[df2.ShipVia == 3]['ShipRegion'].value_counts()"
   ]
  },
  {
   "cell_type": "markdown",
   "metadata": {},
   "source": [
    "Hypothesis Test 3: "
   ]
  },
  {
   "cell_type": "markdown",
   "metadata": {},
   "source": [
    "Null Hypothesis: H_0 = Ship Region has no effect on Freight cost"
   ]
  },
  {
   "cell_type": "markdown",
   "metadata": {},
   "source": [
    "Alternative Hypothesis: H_1 = Ship region does have an effect on Freight cost"
   ]
  },
  {
   "cell_type": "code",
   "execution_count": 49,
   "metadata": {},
   "outputs": [
    {
     "data": {
      "text/plain": [
       "Western Europe     276\n",
       "North America      152\n",
       "South America      145\n",
       "British Isles       75\n",
       "Southern Europe     64\n",
       "Northern Europe     55\n",
       "Central America     28\n",
       "Scandinavia         28\n",
       "Eastern Europe       7\n",
       "Name: ShipRegion, dtype: int64"
      ]
     },
     "execution_count": 49,
     "metadata": {},
     "output_type": "execute_result"
    }
   ],
   "source": [
    "df2.ShipRegion.value_counts()"
   ]
  },
  {
   "cell_type": "code",
   "execution_count": 50,
   "metadata": {},
   "outputs": [],
   "source": [
    "western_europe = df2[df2['ShipRegion'] == 'Western Europe']['Freight']\n",
    "north_america = df2[df2['ShipRegion'] == 'North America']['Freight']\n",
    "south_america = df2[df2['ShipRegion'] == 'South America']['Freight']\n",
    "british_isles = df2[df2['ShipRegion'] == 'British Isles']['Freight']\n",
    "southern_europe = df2[df2['ShipRegion'] == 'Southern Europe']['Freight']\n",
    "northern_europe = df2[df2['ShipRegion'] == 'Northern Europe']['Freight']\n",
    "scandinavia = df2[df2['ShipRegion'] == 'Scandinavia']['Freight']\n",
    "central_america = df2[df2['ShipRegion'] == 'Central America']['Freight']"
   ]
  },
  {
   "cell_type": "code",
   "execution_count": 51,
   "metadata": {},
   "outputs": [
    {
     "data": {
      "text/plain": [
       "92.61336956521727"
      ]
     },
     "execution_count": 51,
     "metadata": {},
     "output_type": "execute_result"
    }
   ],
   "source": [
    "western_europe.mean()"
   ]
  },
  {
   "cell_type": "code",
   "execution_count": 52,
   "metadata": {},
   "outputs": [
    {
     "data": {
      "text/plain": [
       "105.06171052631578"
      ]
     },
     "execution_count": 52,
     "metadata": {},
     "output_type": "execute_result"
    }
   ],
   "source": [
    "north_america.mean()"
   ]
  },
  {
   "cell_type": "code",
   "execution_count": 53,
   "metadata": {},
   "outputs": [
    {
     "data": {
      "text/plain": [
       "56.64793103448279"
      ]
     },
     "execution_count": 53,
     "metadata": {},
     "output_type": "execute_result"
    }
   ],
   "source": [
    "south_america.mean()"
   ]
  },
  {
   "cell_type": "code",
   "execution_count": 54,
   "metadata": {},
   "outputs": [
    {
     "data": {
      "text/plain": [
       "76.12679999999997"
      ]
     },
     "execution_count": 54,
     "metadata": {},
     "output_type": "execute_result"
    }
   ],
   "source": [
    "british_isles.mean()"
   ]
  },
  {
   "cell_type": "code",
   "execution_count": 55,
   "metadata": {},
   "outputs": [
    {
     "data": {
      "text/plain": [
       "37.0290625"
      ]
     },
     "execution_count": 55,
     "metadata": {},
     "output_type": "execute_result"
    }
   ],
   "source": [
    "southern_europe.mean()"
   ]
  },
  {
   "cell_type": "code",
   "execution_count": 56,
   "metadata": {},
   "outputs": [
    {
     "data": {
      "text/plain": [
       "84.25072727272729"
      ]
     },
     "execution_count": 56,
     "metadata": {},
     "output_type": "execute_result"
    }
   ],
   "source": [
    "northern_europe.mean()"
   ]
  },
  {
   "cell_type": "code",
   "execution_count": 57,
   "metadata": {},
   "outputs": [
    {
     "data": {
      "text/plain": [
       "42.37107142857142"
      ]
     },
     "execution_count": 57,
     "metadata": {},
     "output_type": "execute_result"
    }
   ],
   "source": [
    "scandinavia.mean()"
   ]
  },
  {
   "cell_type": "code",
   "execution_count": 58,
   "metadata": {},
   "outputs": [
    {
     "data": {
      "text/plain": [
       "40.09928571428571"
      ]
     },
     "execution_count": 58,
     "metadata": {},
     "output_type": "execute_result"
    }
   ],
   "source": [
    "central_america.mean()"
   ]
  },
  {
   "cell_type": "code",
   "execution_count": 206,
   "metadata": {},
   "outputs": [
    {
     "data": {
      "image/png": "[encoded data removed]",
      "text/plain": [
       "<Figure size 1008x576 with 1 Axes>"
      ]
     },
     "metadata": {
      "needs_background": "light"
     },
     "output_type": "display_data"
    }
   ],
   "source": [
    "#create a violin plot in seaborn to compare the different discount levels\n",
    "plt.subplots(figsize=(14,8))\n",
    "ax = sns.violinplot(x='ShipRegion', y='Freight', data=df2)"
   ]
  },
  {
   "cell_type": "code",
   "execution_count": 60,
   "metadata": {},
   "outputs": [
    {
     "data": {
      "text/plain": [
       "F_onewayResult(statistic=4.519652306798359, pvalue=5.873943090044774e-05)"
      ]
     },
     "execution_count": 60,
     "metadata": {},
     "output_type": "execute_result"
    }
   ],
   "source": [
    "#perform an ANOVA test\n",
    "sp.stats.f_oneway(western_europe, south_america, central_america, north_america, northern_europe, scandinavia, southern_europe, british_isles)"
   ]
  },
  {
   "cell_type": "markdown",
   "metadata": {},
   "source": [
    "Reject the null hypothesis because our p-value < 0.05. Ship region does have an effect on Freight costs.\n",
    "\n",
    "Would require too many t-tests to test each combo - lets focus on the top 3 regions - Western Europe, NA, SA"
   ]
  },
  {
   "cell_type": "code",
   "execution_count": 213,
   "metadata": {},
   "outputs": [
    {
     "data": {
      "text/plain": [
       "F_onewayResult(statistic=5.860316800334934, pvalue=0.003024895330448529)"
      ]
     },
     "execution_count": 213,
     "metadata": {},
     "output_type": "execute_result"
    }
   ],
   "source": [
    "#perform f_oneway test for top 3 ship regions\n",
    "sp.stats.f_oneway(western_europe, south_america, north_america)"
   ]
  },
  {
   "cell_type": "code",
   "execution_count": 215,
   "metadata": {},
   "outputs": [
    {
     "name": "stdout",
     "output_type": "stream",
     "text": [
      "t: 3.343595918720001\n",
      "p: 0.00045289898181854793\n"
     ]
    }
   ],
   "source": [
    "#perform t-tests\n",
    "t_test_freight(western_europe, south_america)"
   ]
  },
  {
   "cell_type": "code",
   "execution_count": 216,
   "metadata": {},
   "outputs": [
    {
     "name": "stdout",
     "output_type": "stream",
     "text": [
      "t: -0.851674177444107\n",
      "p: 0.19756623247945126\n"
     ]
    }
   ],
   "source": [
    "t_test_freight(western_europe, north_america)"
   ]
  },
  {
   "cell_type": "code",
   "execution_count": 219,
   "metadata": {
    "scrolled": true
   },
   "outputs": [
    {
     "name": "stdout",
     "output_type": "stream",
     "text": [
      "t: 3.3900832127982876\n",
      "p: 0.0004073506775537624\n"
     ]
    }
   ],
   "source": [
    "t_test_freight(north_america, south_america)"
   ]
  },
  {
   "cell_type": "markdown",
   "metadata": {},
   "source": [
    "South America appears to have a statistically signficiantly lower freight cost relative to Western Europe and North America\n",
    "\n",
    "I would recommend that the business try to keep expanding in South America based on the lower freight cost."
   ]
  },
  {
   "cell_type": "code",
   "execution_count": 229,
   "metadata": {},
   "outputs": [
    {
     "data": {
      "text/plain": [
       "0.4550210927749705"
      ]
     },
     "execution_count": 229,
     "metadata": {},
     "output_type": "execute_result"
    }
   ],
   "source": [
    "#Effect Size\n",
    "cohensd(western_europe, south_america)"
   ]
  },
  {
   "cell_type": "code",
   "execution_count": 230,
   "metadata": {},
   "outputs": [
    {
     "data": {
      "text/plain": [
       "0.5532651580116017"
      ]
     },
     "execution_count": 230,
     "metadata": {},
     "output_type": "execute_result"
    }
   ],
   "source": [
    "cohensd(north_america, south_america)"
   ]
  },
  {
   "cell_type": "markdown",
   "metadata": {},
   "source": [
    "Effect sizes are medium to medium-large because they are above 0.4. South America's freight costs appear to be a lot smaller, further supporting my recommendation to the company to pursue more business in South America to reduce costs/improve margins"
   ]
  },
  {
   "cell_type": "code",
   "execution_count": 233,
   "metadata": {},
   "outputs": [
    {
     "data": {
      "text/plain": [
       "0.9973182495906974"
      ]
     },
     "execution_count": 233,
     "metadata": {},
     "output_type": "execute_result"
    }
   ],
   "source": [
    "#power test\n",
    "power_analysis.solve_power(effect_size=cohensd(western_europe, south_america), nobs1=len(western_europe), alpha=0.05, ratio=len(south_america)/len(western_europe), alternative='larger')"
   ]
  },
  {
   "cell_type": "code",
   "execution_count": 234,
   "metadata": {
    "scrolled": true
   },
   "outputs": [
    {
     "data": {
      "text/plain": [
       "0.9990653661361194"
      ]
     },
     "execution_count": 234,
     "metadata": {},
     "output_type": "execute_result"
    }
   ],
   "source": [
    "power_analysis.solve_power(effect_size=cohensd(north_america, south_america), nobs1=len(north_america), alpha=0.05, ratio=len(south_america)/len(north_america), alternative='larger')"
   ]
  },
  {
   "cell_type": "code",
   "execution_count": 239,
   "metadata": {},
   "outputs": [],
   "source": [
    "western_europe_full = df2[df2['ShipRegion'] == 'Western Europe']\n",
    "north_america_full = df2[df2['ShipRegion'] == 'North America']\n",
    "south_america_full = df2[df2['ShipRegion'] == 'South America']\n",
    "top3list = pd.concat([western_europe_full, north_america_full, south_america_full])"
   ]
  },
  {
   "cell_type": "code",
   "execution_count": 240,
   "metadata": {},
   "outputs": [
    {
     "data": {
      "image/png": "[encoded data removed]",
      "text/plain": [
       "<Figure size 1008x576 with 1 Axes>"
      ]
     },
     "metadata": {
      "needs_background": "light"
     },
     "output_type": "display_data"
    }
   ],
   "source": [
    "plt.subplots(figsize=(14,8))\n",
    "ax = sns.violinplot(x='ShipRegion', y='Freight', data=top3list)"
   ]
  },
  {
   "cell_type": "markdown",
   "metadata": {},
   "source": [
    "high power, low beta, which means probability of a type 2 error is small"
   ]
  },
  {
   "cell_type": "code",
   "execution_count": 205,
   "metadata": {},
   "outputs": [],
   "source": [
    "#Lets look at their top 3 Regions (Western Europe, North America, and South America) by ShipVia to see the effect on Freight"
   ]
  },
  {
   "cell_type": "code",
   "execution_count": 211,
   "metadata": {},
   "outputs": [],
   "source": [
    "western_europe_shipvia1 = df2[(df2['ShipRegion'] == 'Western Europe') & (df2['ShipVia'] == 1)]['Freight']\n",
    "western_europe_shipvia2 = df2[(df2['ShipRegion'] == 'Western Europe') & (df2['ShipVia'] == 2)]['Freight']\n",
    "western_europe_shipvia3 = df2[(df2['ShipRegion'] == 'Western Europe') & (df2['ShipVia'] == 3)]['Freight']\n",
    "\n",
    "north_america_shipvia1 = df2[(df2['ShipRegion'] == 'North America') & (df2['ShipVia'] == 1)]['Freight']\n",
    "north_america_shipvia2 = df2[(df2['ShipRegion'] == 'North America') & (df2['ShipVia'] == 2)]['Freight']\n",
    "north_america_shipvia3 = df2[(df2['ShipRegion'] == 'North America') & (df2['ShipVia'] == 3)]['Freight']\n",
    "\n",
    "south_america_shipvia1 = df2[(df2['ShipRegion'] == 'South America') & (df2['ShipVia'] == 1)]['Freight']\n",
    "south_america_shipvia2 = df2[(df2['ShipRegion'] == 'South America') & (df2['ShipVia'] == 2)]['Freight']\n",
    "south_america_shipvia3 = df2[(df2['ShipRegion'] == 'South America') & (df2['ShipVia'] == 3)]['Freight']"
   ]
  },
  {
   "cell_type": "code",
   "execution_count": 225,
   "metadata": {
    "scrolled": true
   },
   "outputs": [
    {
     "data": {
      "text/plain": [
       "F_onewayResult(statistic=1.1045786972444605, pvalue=0.3328266640005157)"
      ]
     },
     "execution_count": 225,
     "metadata": {},
     "output_type": "execute_result"
    }
   ],
   "source": [
    "sp.stats.f_oneway(western_europe_shipvia1,western_europe_shipvia2,western_europe_shipvia3)"
   ]
  },
  {
   "cell_type": "code",
   "execution_count": 223,
   "metadata": {},
   "outputs": [
    {
     "data": {
      "text/plain": [
       "F_onewayResult(statistic=0.9897518045725815, pvalue=0.37409896448344915)"
      ]
     },
     "execution_count": 223,
     "metadata": {},
     "output_type": "execute_result"
    }
   ],
   "source": [
    "sp.stats.f_oneway(north_america_shipvia1, north_america_shipvia2, north_america_shipvia3)"
   ]
  },
  {
   "cell_type": "code",
   "execution_count": 224,
   "metadata": {},
   "outputs": [
    {
     "data": {
      "text/plain": [
       "F_onewayResult(statistic=1.1767621980719847, pvalue=0.31126310346899183)"
      ]
     },
     "execution_count": 224,
     "metadata": {},
     "output_type": "execute_result"
    }
   ],
   "source": [
    "sp.stats.f_oneway(south_america_shipvia1, south_america_shipvia2, south_america_shipvia3)"
   ]
  },
  {
   "cell_type": "markdown",
   "metadata": {},
   "source": [
    "It appears that the ShipRegion combined with ShipVia doesnt have a statistically signficiant effect on Freight"
   ]
  },
  {
   "cell_type": "markdown",
   "metadata": {},
   "source": [
    "Hypothesis test 4: "
   ]
  },
  {
   "cell_type": "markdown",
   "metadata": {},
   "source": [
    "Null Hypothesis: H_0 = UnitPrice does not have a statistically significant relationship with Quantity\n",
    "\n",
    "Alternative Hypothesis: H_1 = UnitPrice does have a statistically significant relationship with Quantity"
   ]
  },
  {
   "cell_type": "code",
   "execution_count": 63,
   "metadata": {
    "scrolled": true
   },
   "outputs": [
    {
     "data": {
      "text/html": [
       "<div>\n",
       "<style scoped>\n",
       "    .dataframe tbody tr th:only-of-type {\n",
       "        vertical-align: middle;\n",
       "    }\n",
       "\n",
       "    .dataframe tbody tr th {\n",
       "        vertical-align: top;\n",
       "    }\n",
       "\n",
       "    .dataframe thead th {\n",
       "        text-align: right;\n",
       "    }\n",
       "</style>\n",
       "<table border=\"1\" class=\"dataframe\">\n",
       "  <thead>\n",
       "    <tr style=\"text-align: right;\">\n",
       "      <th></th>\n",
       "      <th>Id</th>\n",
       "      <th>OrderId</th>\n",
       "      <th>ProductId</th>\n",
       "      <th>UnitPrice</th>\n",
       "      <th>Quantity</th>\n",
       "      <th>Discount</th>\n",
       "    </tr>\n",
       "  </thead>\n",
       "  <tbody>\n",
       "    <tr>\n",
       "      <th>0</th>\n",
       "      <td>10518/38</td>\n",
       "      <td>10518</td>\n",
       "      <td>38</td>\n",
       "      <td>263.5</td>\n",
       "      <td>15</td>\n",
       "      <td>0.00</td>\n",
       "    </tr>\n",
       "    <tr>\n",
       "      <th>1</th>\n",
       "      <td>10540/38</td>\n",
       "      <td>10540</td>\n",
       "      <td>38</td>\n",
       "      <td>263.5</td>\n",
       "      <td>30</td>\n",
       "      <td>0.00</td>\n",
       "    </tr>\n",
       "    <tr>\n",
       "      <th>2</th>\n",
       "      <td>10541/38</td>\n",
       "      <td>10541</td>\n",
       "      <td>38</td>\n",
       "      <td>263.5</td>\n",
       "      <td>4</td>\n",
       "      <td>0.10</td>\n",
       "    </tr>\n",
       "    <tr>\n",
       "      <th>3</th>\n",
       "      <td>10616/38</td>\n",
       "      <td>10616</td>\n",
       "      <td>38</td>\n",
       "      <td>263.5</td>\n",
       "      <td>15</td>\n",
       "      <td>0.05</td>\n",
       "    </tr>\n",
       "    <tr>\n",
       "      <th>4</th>\n",
       "      <td>10672/38</td>\n",
       "      <td>10672</td>\n",
       "      <td>38</td>\n",
       "      <td>263.5</td>\n",
       "      <td>15</td>\n",
       "      <td>0.10</td>\n",
       "    </tr>\n",
       "  </tbody>\n",
       "</table>\n",
       "</div>"
      ],
      "text/plain": [
       "         Id  OrderId  ProductId  UnitPrice  Quantity  Discount\n",
       "0  10518/38    10518         38      263.5        15      0.00\n",
       "1  10540/38    10540         38      263.5        30      0.00\n",
       "2  10541/38    10541         38      263.5         4      0.10\n",
       "3  10616/38    10616         38      263.5        15      0.05\n",
       "4  10672/38    10672         38      263.5        15      0.10"
      ]
     },
     "execution_count": 63,
     "metadata": {},
     "output_type": "execute_result"
    }
   ],
   "source": [
    "#wrap the results into a Pandas DataFrame and re-assign column names\n",
    "c.execute('''SELECT * FROM OrderDetail ORDER BY UnitPrice DESC;''')\n",
    "df3 = pd.DataFrame(c.fetchall())\n",
    "df3.columns = [column[0] for column in c.description]\n",
    "df3.head()"
   ]
  },
  {
   "cell_type": "code",
   "execution_count": 64,
   "metadata": {},
   "outputs": [
    {
     "name": "stdout",
     "output_type": "stream",
     "text": [
      "<class 'pandas.core.frame.DataFrame'>\n",
      "RangeIndex: 2155 entries, 0 to 2154\n",
      "Data columns (total 6 columns):\n",
      "Id           2155 non-null object\n",
      "OrderId      2155 non-null int64\n",
      "ProductId    2155 non-null int64\n",
      "UnitPrice    2155 non-null float64\n",
      "Quantity     2155 non-null int64\n",
      "Discount     2155 non-null float64\n",
      "dtypes: float64(2), int64(3), object(1)\n",
      "memory usage: 101.1+ KB\n"
     ]
    }
   ],
   "source": [
    "df3.info()"
   ]
  },
  {
   "cell_type": "markdown",
   "metadata": {},
   "source": [
    "what is the difference between \"smaller\" and \"larger\" under the alternative field of power_analysis.solve_power?"
   ]
  },
  {
   "cell_type": "code",
   "execution_count": 71,
   "metadata": {},
   "outputs": [
    {
     "data": {
      "text/plain": [
       "(array([  0,   1,   2,   3,   4,   5,   6,   7,   8,   9,  10,  11,  12,\n",
       "         13,  14,  15,  16,  17,  18,  19,  20,  21,  22,  23,  24,  25,\n",
       "         26,  27,  28,  29,  30,  31,  32,  33,  34,  35,  36,  37,  38,\n",
       "         39,  40,  41,  42,  43,  44,  45,  46,  47,  48,  49,  50,  51,\n",
       "         52,  53,  54,  55,  56,  57,  58,  59,  60,  61,  62,  63,  64,\n",
       "         65,  66,  67,  68,  69,  70,  71,  72,  73,  74,  75,  76,  77,\n",
       "         78,  79,  80,  81,  82,  83,  84,  85,  86,  87,  88,  89,  90,\n",
       "         91,  92,  93,  94,  95,  96,  97,  98,  99, 100, 101, 102, 103,\n",
       "        104, 105, 106, 107, 108, 109, 110, 111, 112, 113, 114, 115]),\n",
       " <a list of 116 Text xticklabel objects>)"
      ]
     },
     "execution_count": 71,
     "metadata": {},
     "output_type": "execute_result"
    },
    {
     "data": {
      "image/png": "[encoded data removed]",
      "text/plain": [
       "<Figure size 1008x576 with 1 Axes>"
      ]
     },
     "metadata": {
      "needs_background": "light"
     },
     "output_type": "display_data"
    }
   ],
   "source": [
    "#create a violin plot in seaborn to compare the different discount levels\n",
    "plt.subplots(figsize=(14,8))\n",
    "ax = sns.violinplot(x='UnitPrice', y='Quantity', data=df3)\n",
    "plt.xticks(rotation=90)\n",
    "#ax.set(ylim=(-50,200))"
   ]
  },
  {
   "cell_type": "code",
   "execution_count": 72,
   "metadata": {},
   "outputs": [
    {
     "data": {
      "text/plain": [
       "12.0"
      ]
     },
     "execution_count": 72,
     "metadata": {},
     "output_type": "execute_result"
    }
   ],
   "source": [
    "np.percentile(df3.UnitPrice, 25)"
   ]
  },
  {
   "cell_type": "code",
   "execution_count": 73,
   "metadata": {},
   "outputs": [
    {
     "data": {
      "text/plain": [
       "18.4"
      ]
     },
     "execution_count": 73,
     "metadata": {},
     "output_type": "execute_result"
    }
   ],
   "source": [
    "np.percentile(df3.UnitPrice, 50)"
   ]
  },
  {
   "cell_type": "code",
   "execution_count": 74,
   "metadata": {},
   "outputs": [
    {
     "data": {
      "text/plain": [
       "32.0"
      ]
     },
     "execution_count": 74,
     "metadata": {},
     "output_type": "execute_result"
    }
   ],
   "source": [
    "np.percentile(df3.UnitPrice, 75)"
   ]
  },
  {
   "cell_type": "code",
   "execution_count": 75,
   "metadata": {},
   "outputs": [],
   "source": [
    "price1 = df3[df3.UnitPrice <= 12]['Quantity']"
   ]
  },
  {
   "cell_type": "code",
   "execution_count": 76,
   "metadata": {
    "scrolled": true
   },
   "outputs": [
    {
     "data": {
      "text/plain": [
       "23.040072859744992"
      ]
     },
     "execution_count": 76,
     "metadata": {},
     "output_type": "execute_result"
    }
   ],
   "source": [
    "price1.mean()"
   ]
  },
  {
   "cell_type": "code",
   "execution_count": 77,
   "metadata": {},
   "outputs": [],
   "source": [
    "price2 = df3[(df3.UnitPrice > 12) & (df3.UnitPrice <= 18.4)]['Quantity']"
   ]
  },
  {
   "cell_type": "code",
   "execution_count": 78,
   "metadata": {},
   "outputs": [
    {
     "data": {
      "text/plain": [
       "24.476014760147603"
      ]
     },
     "execution_count": 78,
     "metadata": {},
     "output_type": "execute_result"
    }
   ],
   "source": [
    "price2.mean()"
   ]
  },
  {
   "cell_type": "code",
   "execution_count": 79,
   "metadata": {},
   "outputs": [],
   "source": [
    "price3 = df3[(df3.UnitPrice > 18.4) & (df3.UnitPrice <= 32)]['Quantity']"
   ]
  },
  {
   "cell_type": "code",
   "execution_count": 80,
   "metadata": {},
   "outputs": [
    {
     "data": {
      "text/plain": [
       "23.534709193245778"
      ]
     },
     "execution_count": 80,
     "metadata": {},
     "output_type": "execute_result"
    }
   ],
   "source": [
    "price3.mean()"
   ]
  },
  {
   "cell_type": "code",
   "execution_count": 81,
   "metadata": {},
   "outputs": [],
   "source": [
    "price4 = df3[df3.UnitPrice > 32]['Quantity']"
   ]
  },
  {
   "cell_type": "code",
   "execution_count": 82,
   "metadata": {
    "scrolled": true
   },
   "outputs": [
    {
     "data": {
      "text/plain": [
       "24.214689265536723"
      ]
     },
     "execution_count": 82,
     "metadata": {},
     "output_type": "execute_result"
    }
   ],
   "source": [
    "price4.mean()"
   ]
  },
  {
   "cell_type": "code",
   "execution_count": 83,
   "metadata": {
    "scrolled": true
   },
   "outputs": [
    {
     "data": {
      "text/plain": [
       "F_onewayResult(statistic=0.6382658769320135, pvalue=0.5903639373068829)"
      ]
     },
     "execution_count": 83,
     "metadata": {},
     "output_type": "execute_result"
    }
   ],
   "source": [
    "#try an ANOVA test for each quartile of prices\n",
    "sp.stats.f_oneway(price1, price2, price3, price4)"
   ]
  },
  {
   "cell_type": "markdown",
   "metadata": {},
   "source": [
    "the p value is >0.05, fail to reject the null hypothesis"
   ]
  },
  {
   "cell_type": "markdown",
   "metadata": {},
   "source": [
    "When running the different combinations of price quartiles in t-tests you can see that none of them are statistically significant. This means that the price of an item doesn't have a significant relationship with the Quantity of an order. This supports the small effect size seen above. Customers don't seem to want more of an item just because its a lower price.\n",
    "\n",
    "\n",
    "My recommendation to the company would be to put a discount level on the item instead of just lowering the price because it seems to have more of an effect on Quantity of an order. \n",
    "\n",
    "I would also recommend to investigate further to see how prices, profitability, and discount levels play a part in a customer's decision to place an order with a certain quantity."
   ]
  },
  {
   "cell_type": "markdown",
   "metadata": {},
   "source": [
    "Hypothesis Test 5"
   ]
  },
  {
   "cell_type": "code",
   "execution_count": 162,
   "metadata": {
    "scrolled": true
   },
   "outputs": [
    {
     "data": {
      "text/html": [
       "<div>\n",
       "<style scoped>\n",
       "    .dataframe tbody tr th:only-of-type {\n",
       "        vertical-align: middle;\n",
       "    }\n",
       "\n",
       "    .dataframe tbody tr th {\n",
       "        vertical-align: top;\n",
       "    }\n",
       "\n",
       "    .dataframe thead th {\n",
       "        text-align: right;\n",
       "    }\n",
       "</style>\n",
       "<table border=\"1\" class=\"dataframe\">\n",
       "  <thead>\n",
       "    <tr style=\"text-align: right;\">\n",
       "      <th></th>\n",
       "      <th>Id</th>\n",
       "      <th>ProductName</th>\n",
       "      <th>UnitCost</th>\n",
       "      <th>OrderId</th>\n",
       "      <th>ProductId</th>\n",
       "      <th>UnitRevenue</th>\n",
       "      <th>Quantity</th>\n",
       "      <th>Discount</th>\n",
       "    </tr>\n",
       "  </thead>\n",
       "  <tbody>\n",
       "    <tr>\n",
       "      <th>0</th>\n",
       "      <td>11</td>\n",
       "      <td>Queso Cabrales</td>\n",
       "      <td>21.00</td>\n",
       "      <td>10248</td>\n",
       "      <td>11</td>\n",
       "      <td>14.0</td>\n",
       "      <td>12</td>\n",
       "      <td>0.0</td>\n",
       "    </tr>\n",
       "    <tr>\n",
       "      <th>1</th>\n",
       "      <td>42</td>\n",
       "      <td>Singaporean Hokkien Fried Mee</td>\n",
       "      <td>14.00</td>\n",
       "      <td>10248</td>\n",
       "      <td>42</td>\n",
       "      <td>9.8</td>\n",
       "      <td>10</td>\n",
       "      <td>0.0</td>\n",
       "    </tr>\n",
       "    <tr>\n",
       "      <th>2</th>\n",
       "      <td>72</td>\n",
       "      <td>Mozzarella di Giovanni</td>\n",
       "      <td>34.80</td>\n",
       "      <td>10248</td>\n",
       "      <td>72</td>\n",
       "      <td>34.8</td>\n",
       "      <td>5</td>\n",
       "      <td>0.0</td>\n",
       "    </tr>\n",
       "    <tr>\n",
       "      <th>3</th>\n",
       "      <td>14</td>\n",
       "      <td>Tofu</td>\n",
       "      <td>23.25</td>\n",
       "      <td>10249</td>\n",
       "      <td>14</td>\n",
       "      <td>18.6</td>\n",
       "      <td>9</td>\n",
       "      <td>0.0</td>\n",
       "    </tr>\n",
       "    <tr>\n",
       "      <th>4</th>\n",
       "      <td>51</td>\n",
       "      <td>Manjimup Dried Apples</td>\n",
       "      <td>53.00</td>\n",
       "      <td>10249</td>\n",
       "      <td>51</td>\n",
       "      <td>42.4</td>\n",
       "      <td>40</td>\n",
       "      <td>0.0</td>\n",
       "    </tr>\n",
       "  </tbody>\n",
       "</table>\n",
       "</div>"
      ],
      "text/plain": [
       "   Id                    ProductName  UnitCost  OrderId  ProductId  \\\n",
       "0  11                 Queso Cabrales     21.00    10248         11   \n",
       "1  42  Singaporean Hokkien Fried Mee     14.00    10248         42   \n",
       "2  72         Mozzarella di Giovanni     34.80    10248         72   \n",
       "3  14                           Tofu     23.25    10249         14   \n",
       "4  51          Manjimup Dried Apples     53.00    10249         51   \n",
       "\n",
       "   UnitRevenue  Quantity  Discount  \n",
       "0         14.0        12       0.0  \n",
       "1          9.8        10       0.0  \n",
       "2         34.8         5       0.0  \n",
       "3         18.6         9       0.0  \n",
       "4         42.4        40       0.0  "
      ]
     },
     "execution_count": 162,
     "metadata": {},
     "output_type": "execute_result"
    }
   ],
   "source": [
    "#wrap the results into a Pandas DataFrame and re-assign column names\n",
    "c.execute('''SELECT Product.Id,\n",
    "Product.ProductName,\n",
    "Product.UnitPrice AS UnitCost,\n",
    "OrderDetail.OrderId,\n",
    "OrderDetail.ProductId,\n",
    "OrderDetail.UnitPrice AS UnitRevenue,\n",
    "OrderDetail.Quantity,\n",
    "OrderDetail.Discount\n",
    "FROM Product \n",
    "JOIN OrderDetail\n",
    "ON Product.Id = OrderDetail.ProductId;''')\n",
    "df4 = pd.DataFrame(c.fetchall())\n",
    "df4.columns = [column[0] for column in c.description]\n",
    "df4.head()"
   ]
  },
  {
   "cell_type": "code",
   "execution_count": 163,
   "metadata": {},
   "outputs": [],
   "source": [
    "df4['UnitRevenuePostDiscount'] = df4['UnitRevenue']*(1-df4['Discount'])"
   ]
  },
  {
   "cell_type": "code",
   "execution_count": 164,
   "metadata": {},
   "outputs": [],
   "source": [
    "df4['UnitGrossProfit'] = df4['UnitRevenuePostDiscount'] - df4['UnitCost'] "
   ]
  },
  {
   "cell_type": "code",
   "execution_count": 170,
   "metadata": {},
   "outputs": [],
   "source": [
    "df4['TotalRevenue'] = df4['UnitRevenuePostDiscount']*df4['Quantity']"
   ]
  },
  {
   "cell_type": "code",
   "execution_count": 171,
   "metadata": {},
   "outputs": [],
   "source": [
    "df4['TotalCost'] = df4['UnitCost']*df4['Quantity']"
   ]
  },
  {
   "cell_type": "code",
   "execution_count": 174,
   "metadata": {},
   "outputs": [],
   "source": [
    "df4['TotalProfit'] = df4['TotalRevenue'] - df4['TotalCost']"
   ]
  },
  {
   "cell_type": "code",
   "execution_count": 175,
   "metadata": {},
   "outputs": [
    {
     "data": {
      "text/html": [
       "<div>\n",
       "<style scoped>\n",
       "    .dataframe tbody tr th:only-of-type {\n",
       "        vertical-align: middle;\n",
       "    }\n",
       "\n",
       "    .dataframe tbody tr th {\n",
       "        vertical-align: top;\n",
       "    }\n",
       "\n",
       "    .dataframe thead th {\n",
       "        text-align: right;\n",
       "    }\n",
       "</style>\n",
       "<table border=\"1\" class=\"dataframe\">\n",
       "  <thead>\n",
       "    <tr style=\"text-align: right;\">\n",
       "      <th></th>\n",
       "      <th>Id</th>\n",
       "      <th>ProductName</th>\n",
       "      <th>UnitCost</th>\n",
       "      <th>OrderId</th>\n",
       "      <th>ProductId</th>\n",
       "      <th>UnitRevenue</th>\n",
       "      <th>Quantity</th>\n",
       "      <th>Discount</th>\n",
       "      <th>UnitRevenuePostDiscount</th>\n",
       "      <th>UnitGrossProfit</th>\n",
       "      <th>TotalRevenue</th>\n",
       "      <th>TotalCost</th>\n",
       "      <th>TotalProfit</th>\n",
       "    </tr>\n",
       "  </thead>\n",
       "  <tbody>\n",
       "    <tr>\n",
       "      <th>0</th>\n",
       "      <td>11</td>\n",
       "      <td>Queso Cabrales</td>\n",
       "      <td>21.00</td>\n",
       "      <td>10248</td>\n",
       "      <td>11</td>\n",
       "      <td>14.0</td>\n",
       "      <td>12</td>\n",
       "      <td>0.0</td>\n",
       "      <td>14.0</td>\n",
       "      <td>-7.00</td>\n",
       "      <td>168.0</td>\n",
       "      <td>252.00</td>\n",
       "      <td>-84.00</td>\n",
       "    </tr>\n",
       "    <tr>\n",
       "      <th>1</th>\n",
       "      <td>42</td>\n",
       "      <td>Singaporean Hokkien Fried Mee</td>\n",
       "      <td>14.00</td>\n",
       "      <td>10248</td>\n",
       "      <td>42</td>\n",
       "      <td>9.8</td>\n",
       "      <td>10</td>\n",
       "      <td>0.0</td>\n",
       "      <td>9.8</td>\n",
       "      <td>-4.20</td>\n",
       "      <td>98.0</td>\n",
       "      <td>140.00</td>\n",
       "      <td>-42.00</td>\n",
       "    </tr>\n",
       "    <tr>\n",
       "      <th>2</th>\n",
       "      <td>72</td>\n",
       "      <td>Mozzarella di Giovanni</td>\n",
       "      <td>34.80</td>\n",
       "      <td>10248</td>\n",
       "      <td>72</td>\n",
       "      <td>34.8</td>\n",
       "      <td>5</td>\n",
       "      <td>0.0</td>\n",
       "      <td>34.8</td>\n",
       "      <td>0.00</td>\n",
       "      <td>174.0</td>\n",
       "      <td>174.00</td>\n",
       "      <td>0.00</td>\n",
       "    </tr>\n",
       "    <tr>\n",
       "      <th>3</th>\n",
       "      <td>14</td>\n",
       "      <td>Tofu</td>\n",
       "      <td>23.25</td>\n",
       "      <td>10249</td>\n",
       "      <td>14</td>\n",
       "      <td>18.6</td>\n",
       "      <td>9</td>\n",
       "      <td>0.0</td>\n",
       "      <td>18.6</td>\n",
       "      <td>-4.65</td>\n",
       "      <td>167.4</td>\n",
       "      <td>209.25</td>\n",
       "      <td>-41.85</td>\n",
       "    </tr>\n",
       "    <tr>\n",
       "      <th>4</th>\n",
       "      <td>51</td>\n",
       "      <td>Manjimup Dried Apples</td>\n",
       "      <td>53.00</td>\n",
       "      <td>10249</td>\n",
       "      <td>51</td>\n",
       "      <td>42.4</td>\n",
       "      <td>40</td>\n",
       "      <td>0.0</td>\n",
       "      <td>42.4</td>\n",
       "      <td>-10.60</td>\n",
       "      <td>1696.0</td>\n",
       "      <td>2120.00</td>\n",
       "      <td>-424.00</td>\n",
       "    </tr>\n",
       "  </tbody>\n",
       "</table>\n",
       "</div>"
      ],
      "text/plain": [
       "   Id                    ProductName  UnitCost  OrderId  ProductId  \\\n",
       "0  11                 Queso Cabrales     21.00    10248         11   \n",
       "1  42  Singaporean Hokkien Fried Mee     14.00    10248         42   \n",
       "2  72         Mozzarella di Giovanni     34.80    10248         72   \n",
       "3  14                           Tofu     23.25    10249         14   \n",
       "4  51          Manjimup Dried Apples     53.00    10249         51   \n",
       "\n",
       "   UnitRevenue  Quantity  Discount  UnitRevenuePostDiscount  UnitGrossProfit  \\\n",
       "0         14.0        12       0.0                     14.0            -7.00   \n",
       "1          9.8        10       0.0                      9.8            -4.20   \n",
       "2         34.8         5       0.0                     34.8             0.00   \n",
       "3         18.6         9       0.0                     18.6            -4.65   \n",
       "4         42.4        40       0.0                     42.4           -10.60   \n",
       "\n",
       "   TotalRevenue  TotalCost  TotalProfit  \n",
       "0         168.0     252.00       -84.00  \n",
       "1          98.0     140.00       -42.00  \n",
       "2         174.0     174.00         0.00  \n",
       "3         167.4     209.25       -41.85  \n",
       "4        1696.0    2120.00      -424.00  "
      ]
     },
     "execution_count": 175,
     "metadata": {},
     "output_type": "execute_result"
    }
   ],
   "source": [
    "df4.head()"
   ]
  },
  {
   "cell_type": "markdown",
   "metadata": {},
   "source": [
    "Company isn't profitable on any Products, so I guess they just want to increase Quantity to get their UnitCost down by ordering more in bulk"
   ]
  },
  {
   "cell_type": "markdown",
   "metadata": {},
   "source": [
    "Hyothesis Test 6:"
   ]
  },
  {
   "cell_type": "code",
   "execution_count": 181,
   "metadata": {},
   "outputs": [
    {
     "data": {
      "text/html": [
       "<div>\n",
       "<style scoped>\n",
       "    .dataframe tbody tr th:only-of-type {\n",
       "        vertical-align: middle;\n",
       "    }\n",
       "\n",
       "    .dataframe tbody tr th {\n",
       "        vertical-align: top;\n",
       "    }\n",
       "\n",
       "    .dataframe thead th {\n",
       "        text-align: right;\n",
       "    }\n",
       "</style>\n",
       "<table border=\"1\" class=\"dataframe\">\n",
       "  <thead>\n",
       "    <tr style=\"text-align: right;\">\n",
       "      <th></th>\n",
       "      <th>Id</th>\n",
       "      <th>ProductName</th>\n",
       "      <th>CategoryId</th>\n",
       "      <th>UnitCost</th>\n",
       "      <th>OrderId</th>\n",
       "      <th>ProductId</th>\n",
       "      <th>UnitPrice</th>\n",
       "      <th>Quantity</th>\n",
       "      <th>Discount</th>\n",
       "    </tr>\n",
       "  </thead>\n",
       "  <tbody>\n",
       "    <tr>\n",
       "      <th>0</th>\n",
       "      <td>11</td>\n",
       "      <td>Queso Cabrales</td>\n",
       "      <td>4</td>\n",
       "      <td>21.00</td>\n",
       "      <td>10248</td>\n",
       "      <td>11</td>\n",
       "      <td>14.0</td>\n",
       "      <td>12</td>\n",
       "      <td>0.0</td>\n",
       "    </tr>\n",
       "    <tr>\n",
       "      <th>1</th>\n",
       "      <td>42</td>\n",
       "      <td>Singaporean Hokkien Fried Mee</td>\n",
       "      <td>5</td>\n",
       "      <td>14.00</td>\n",
       "      <td>10248</td>\n",
       "      <td>42</td>\n",
       "      <td>9.8</td>\n",
       "      <td>10</td>\n",
       "      <td>0.0</td>\n",
       "    </tr>\n",
       "    <tr>\n",
       "      <th>2</th>\n",
       "      <td>72</td>\n",
       "      <td>Mozzarella di Giovanni</td>\n",
       "      <td>4</td>\n",
       "      <td>34.80</td>\n",
       "      <td>10248</td>\n",
       "      <td>72</td>\n",
       "      <td>34.8</td>\n",
       "      <td>5</td>\n",
       "      <td>0.0</td>\n",
       "    </tr>\n",
       "    <tr>\n",
       "      <th>3</th>\n",
       "      <td>14</td>\n",
       "      <td>Tofu</td>\n",
       "      <td>7</td>\n",
       "      <td>23.25</td>\n",
       "      <td>10249</td>\n",
       "      <td>14</td>\n",
       "      <td>18.6</td>\n",
       "      <td>9</td>\n",
       "      <td>0.0</td>\n",
       "    </tr>\n",
       "    <tr>\n",
       "      <th>4</th>\n",
       "      <td>51</td>\n",
       "      <td>Manjimup Dried Apples</td>\n",
       "      <td>7</td>\n",
       "      <td>53.00</td>\n",
       "      <td>10249</td>\n",
       "      <td>51</td>\n",
       "      <td>42.4</td>\n",
       "      <td>40</td>\n",
       "      <td>0.0</td>\n",
       "    </tr>\n",
       "  </tbody>\n",
       "</table>\n",
       "</div>"
      ],
      "text/plain": [
       "   Id                    ProductName  CategoryId  UnitCost  OrderId  \\\n",
       "0  11                 Queso Cabrales           4     21.00    10248   \n",
       "1  42  Singaporean Hokkien Fried Mee           5     14.00    10248   \n",
       "2  72         Mozzarella di Giovanni           4     34.80    10248   \n",
       "3  14                           Tofu           7     23.25    10249   \n",
       "4  51          Manjimup Dried Apples           7     53.00    10249   \n",
       "\n",
       "   ProductId  UnitPrice  Quantity  Discount  \n",
       "0         11       14.0        12       0.0  \n",
       "1         42        9.8        10       0.0  \n",
       "2         72       34.8         5       0.0  \n",
       "3         14       18.6         9       0.0  \n",
       "4         51       42.4        40       0.0  "
      ]
     },
     "execution_count": 181,
     "metadata": {},
     "output_type": "execute_result"
    }
   ],
   "source": [
    "c.execute('''SELECT Product.Id,\n",
    "Product.ProductName,\n",
    "Product.CategoryId,\n",
    "Product.UnitPrice AS UnitCost,\n",
    "OrderDetail.OrderId,\n",
    "OrderDetail.ProductId,\n",
    "OrderDetail.UnitPrice,\n",
    "OrderDetail.Quantity,\n",
    "OrderDetail.Discount\n",
    "FROM Product\n",
    "JOIN OrderDetail\n",
    "ON Product.Id = OrderDetail.ProductId;''')\n",
    "df5 = pd.DataFrame(c.fetchall())\n",
    "df5.columns = [column[0] for column in c.description]\n",
    "df5.head()"
   ]
  },
  {
   "cell_type": "code",
   "execution_count": 182,
   "metadata": {},
   "outputs": [
    {
     "name": "stdout",
     "output_type": "stream",
     "text": [
      "<class 'pandas.core.frame.DataFrame'>\n",
      "RangeIndex: 2155 entries, 0 to 2154\n",
      "Data columns (total 9 columns):\n",
      "Id             2155 non-null int64\n",
      "ProductName    2155 non-null object\n",
      "CategoryId     2155 non-null int64\n",
      "UnitCost       2155 non-null float64\n",
      "OrderId        2155 non-null int64\n",
      "ProductId      2155 non-null int64\n",
      "UnitPrice      2155 non-null float64\n",
      "Quantity       2155 non-null int64\n",
      "Discount       2155 non-null float64\n",
      "dtypes: float64(3), int64(5), object(1)\n",
      "memory usage: 151.6+ KB\n"
     ]
    }
   ],
   "source": [
    "df5.info()"
   ]
  },
  {
   "cell_type": "code",
   "execution_count": 183,
   "metadata": {},
   "outputs": [
    {
     "data": {
      "text/plain": [
       "1    404\n",
       "4    366\n",
       "3    334\n",
       "8    330\n",
       "2    216\n",
       "5    196\n",
       "6    173\n",
       "7    136\n",
       "Name: CategoryId, dtype: int64"
      ]
     },
     "execution_count": 183,
     "metadata": {},
     "output_type": "execute_result"
    }
   ],
   "source": [
    "df5.CategoryId.value_counts()"
   ]
  },
  {
   "cell_type": "code",
   "execution_count": 186,
   "metadata": {},
   "outputs": [],
   "source": [
    "#create sample groups based on Quantites of different product categories\n",
    "category1 = df5[df5.CategoryId == 1]['Quantity']\n",
    "category2 = df5[df5.CategoryId == 2]['Quantity']\n",
    "category3 = df5[df5.CategoryId == 3]['Quantity']\n",
    "category4 = df5[df5.CategoryId == 4]['Quantity']\n",
    "category5 = df5[df5.CategoryId == 5]['Quantity']\n",
    "category6 = df5[df5.CategoryId == 6]['Quantity']\n",
    "category7 = df5[df5.CategoryId == 7]['Quantity']\n",
    "category8 = df5[df5.CategoryId == 8]['Quantity']"
   ]
  },
  {
   "cell_type": "markdown",
   "metadata": {},
   "source": [
    "Null Hypothesis: H_0 = CategoryId doesn't effect Quantity\n",
    "\n",
    "Alternative Hypothesis: H_1 = CategoryId does effect Quantity\n",
    "\n",
    "one-tail test\n",
    "\n",
    "alpha = 0.05"
   ]
  },
  {
   "cell_type": "code",
   "execution_count": 189,
   "metadata": {},
   "outputs": [
    {
     "name": "stdout",
     "output_type": "stream",
     "text": [
      "23.594059405940595\n",
      "24.52777777777778\n",
      "23.67065868263473\n",
      "24.997267759562842\n",
      "23.275510204081634\n",
      "24.271676300578033\n",
      "21.985294117647058\n",
      "23.275757575757577\n"
     ]
    }
   ],
   "source": [
    "#initial sample mean exploration\n",
    "categorylist = [category1, category2, category3, category4, category5, category6, category7, category8]\n",
    "\n",
    "for category in categorylist:\n",
    "    print(category.mean())"
   ]
  },
  {
   "cell_type": "code",
   "execution_count": 190,
   "metadata": {},
   "outputs": [
    {
     "data": {
      "text/plain": [
       "F_onewayResult(statistic=0.5094291432034348, pvalue=0.8280581155634347)"
      ]
     },
     "execution_count": 190,
     "metadata": {},
     "output_type": "execute_result"
    }
   ],
   "source": [
    "sp.stats.f_oneway(category1, category2, category3, category4, category5, category6, category7, category8)"
   ]
  },
  {
   "cell_type": "markdown",
   "metadata": {},
   "source": [
    "Reject the null hypothesis because our p-value > 0.05, categories don't have a significant effect on Quantity."
   ]
  },
  {
   "cell_type": "code",
   "execution_count": 191,
   "metadata": {},
   "outputs": [
    {
     "data": {
      "image/png": "[encoded data removed]",
      "text/plain": [
       "<Figure size 1008x576 with 1 Axes>"
      ]
     },
     "metadata": {
      "needs_background": "light"
     },
     "output_type": "display_data"
    }
   ],
   "source": [
    "#create a violin plot in seaborn to compare the different discount levels\n",
    "plt.subplots(figsize=(14,8))\n",
    "ax = sns.violinplot(x='CategoryId', y='Quantity', data=df5)"
   ]
  },
  {
   "cell_type": "markdown",
   "metadata": {},
   "source": [
    "This visualization further emphasizes that CategoryId doesn't have a significant effect on Quantity."
   ]
  },
  {
   "cell_type": "code",
   "execution_count": null,
   "metadata": {},
   "outputs": [],
   "source": []
  }
 ],
 "metadata": {
  "kernelspec": {
   "display_name": "Python 3",
   "language": "python",
   "name": "python3"
  },
  "language_info": {
   "codemirror_mode": {
    "name": "ipython",
    "version": 3
   },
   "file_extension": ".py",
   "mimetype": "text/x-python",
   "name": "python",
   "nbconvert_exporter": "python",
   "pygments_lexer": "ipython3",
   "version": "3.7.3"
  }
 },
 "nbformat": 4,
 "nbformat_minor": 2
}
